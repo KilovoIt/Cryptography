{
 "cells": [
  {
   "cell_type": "markdown",
   "metadata": {},
   "source": [
    "Perhaps you heard about \"easter egg\" that is embedded into Python. All you have to do is type in Python console:\n",
    "\n",
    "```\n",
    "import this\n",
    "```\n",
    "\n",
    "And you should see the magic. However, I went a little further and found actual this.py file. And that's what I found there:"
   ]
  },
  {
   "cell_type": "code",
   "execution_count": 75,
   "metadata": {},
   "outputs": [],
   "source": [
    "# given cypher string\n",
    "s = \"\"\"Gur Mra bs Clguba, ol Gvz Crgref\n",
    "\n",
    "Ornhgvshy vf orggre guna htyl.\n",
    "Rkcyvpvg vf orggre guna vzcyvpvg.\n",
    "Fvzcyr vf orggre guna pbzcyrk.\n",
    "Pbzcyrk vf orggre guna pbzcyvpngrq.\n",
    "Syng vf orggre guna arfgrq.\n",
    "Fcnefr vf orggre guna qrafr.\n",
    "Ernqnovyvgl pbhagf.\n",
    "Fcrpvny pnfrf nera'g fcrpvny rabhtu gb oernx gur ehyrf.\n",
    "Nygubhtu cenpgvpnyvgl orngf chevgl.\n",
    "Reebef fubhyq arire cnff fvyragyl.\n",
    "Hayrff rkcyvpvgyl fvyraprq.\n",
    "Va gur snpr bs nzovthvgl, ershfr gur grzcgngvba gb thrff.\n",
    "Gurer fubhyq or bar-- naq cersrenoyl bayl bar --boivbhf jnl gb qb vg.\n",
    "Nygubhtu gung jnl znl abg or boivbhf ng svefg hayrff lbh'er Qhgpu.\n",
    "Abj vf orggre guna arire.\n",
    "Nygubhtu arire vf bsgra orggre guna *evtug* abj.\n",
    "Vs gur vzcyrzragngvba vf uneq gb rkcynva, vg'f n onq vqrn.\n",
    "Vs gur vzcyrzragngvba vf rnfl gb rkcynva, vg znl or n tbbq vqrn.\n",
    "Anzrfcnprf ner bar ubaxvat terng vqrn -- yrg'f qb zber bs gubfr!\"\"\""
   ]
  },
  {
   "cell_type": "markdown",
   "metadata": {},
   "source": [
    "Seems like a cypher, right? I love crypto! \n",
    "\n",
    "Shall we try to decrypt it ourselves? \n",
    "\n",
    "Couple of things to note right off the bat:\n",
    "- seems like amounts of letters in words are intact. If a word originally had 4 letters, its length is preserved. \n",
    "- seems like it's not a dynamic cypher, in other words, if a letter 'A' is replaced with letter 'H', for example, it will remain as 'H' all along the way. \n",
    "- we know for sure it's English. Hopefully. Python is mostly English, this is a reason to believe)\n",
    "- it could be a what so called Caesar's cypher, when all letters are shifted by the same number right or left in the alphabet. We need to somehow find this number.\n",
    "\n",
    "With that in mind, we commence:"
   ]
  },
  {
   "cell_type": "code",
   "execution_count": 76,
   "metadata": {},
   "outputs": [],
   "source": [
    "\n",
    "# Definde a function that returns a generator object containing words from the text\n",
    "def get_words(s):\n",
    "    lines = s.split('\\n')\n",
    "    for line in lines:\n",
    "        yield from line.split()\n",
    "        "
   ]
  },
  {
   "cell_type": "code",
   "execution_count": 77,
   "metadata": {},
   "outputs": [],
   "source": [
    "import json\n",
    "from collections import OrderedDict\n",
    "with open('dictionary.json') as f:\n",
    "    dictionary = json.load(f)\n",
    "    \n",
    "# Get English dictionary:) We need to somehow verify if our decrypting attempt is successful or not.\n",
    "dictionary= OrderedDict(sorted(dictionary.items()))\n"
   ]
  },
  {
   "cell_type": "code",
   "execution_count": 79,
   "metadata": {},
   "outputs": [
    {
     "name": "stdout",
     "output_type": "stream",
     "text": [
      "Shift: 13 \n",
      " the zen of python, by tim peters\n",
      "\n",
      "beautiful is better than ugly.\n",
      "explicit is better than implicit.\n",
      "simple is better than complex.\n",
      "complex is better than complicated.\n",
      "flat is better than nested.\n",
      "sparse is better than dense.\n",
      "readability counts.\n",
      "special cases aren't special enough to break the rules.\n",
      "although practicality beats purity.\n",
      "errors should never pass silently.\n",
      "unless explicitly silenced.\n",
      "in the face of ambiguity, refuse the temptation to guess.\n",
      "there should be one-- and preferably only one --obvious way to do it.\n",
      "although that way may not be obvious at first unless you're dutch.\n",
      "now is better than never.\n",
      "although never is often better than *right* now.\n",
      "if the implementation is hard to explain, it's a bad idea.\n",
      "if the implementation is easy to explain, it may be a good idea.\n",
      "namespaces are one honking great idea -- let's do more of those!\n"
     ]
    }
   ],
   "source": [
    "# Finally, the decryption itself. \n",
    "\n",
    "# This is the direct alphabet\n",
    "DIRECT = 'ABCDEFGHIJKLMNOPQRSTUVWXYZ'.lower()\n",
    "\n",
    "# We are working with lowercase letters to avoid confusion, so everything is translated into a lowercase.\n",
    "s = s.lower()\n",
    "\n",
    "# How many letters do we shift to the right\n",
    "shift = 0    \n",
    "matches = 0\n",
    "\n",
    "# We arbitrarily say, that if decrypted text has 25 or more words that exist in a dictionary, \n",
    "# the cypher is most likely successfully decrypted.\n",
    "while matches < 25:\n",
    "    # After each run, if while-condition is not met, matches are zeroed\n",
    "    matches = 0\n",
    "    # New alphabet is created by shifting DIRECT sequence to the right by [shift] amount of symbols\n",
    "    cypher = DIRECT[26-shift:]+DIRECT[:26-shift] \n",
    "    # Then, the text is translated in accordance with cypher\n",
    "    switch = dict(zip(DIRECT,cypher))\n",
    "    translated = s.maketrans(switch)\n",
    "    s = s.translate(translated)\n",
    "    \n",
    "    # Now, we count matches\n",
    "    for word in [word for word in get_words(s)]:\n",
    "        if dictionary.get(word, None):\n",
    "            # If there is such a word:\n",
    "            matches+=1\n",
    "    # at the end of the full cycle, cypher is shifted by 1\n",
    "    shift+=1\n",
    "\n",
    "# if condition is met, we print decrypted text and shifts it took -1 because shift got increased by 1\n",
    "# at the end of the cycle even after completion. \n",
    "print(\"Shift:\", shift-1,\"\\n\", s)        "
   ]
  },
  {
   "cell_type": "markdown",
   "metadata": {},
   "source": [
    "Et Voilà!\n",
    "\n",
    "Cypher is decrypted, and the Zen of Python is revealed. "
   ]
  },
  {
   "cell_type": "code",
   "execution_count": 80,
   "metadata": {},
   "outputs": [
    {
     "name": "stdout",
     "output_type": "stream",
     "text": [
      "The Zen of Python, by Tim Peters\n",
      "\n",
      "Beautiful is better than ugly.\n",
      "Explicit is better than implicit.\n",
      "Simple is better than complex.\n",
      "Complex is better than complicated.\n",
      "Flat is better than nested.\n",
      "Sparse is better than dense.\n",
      "Readability counts.\n",
      "Special cases aren't special enough to break the rules.\n",
      "Although practicality beats purity.\n",
      "Errors should never pass silently.\n",
      "Unless explicitly silenced.\n",
      "In the face of ambiguity, refuse the temptation to guess.\n",
      "There should be one-- and preferably only one --obvious way to do it.\n",
      "Although that way may not be obvious at first unless you're Dutch.\n",
      "Now is better than never.\n",
      "Although never is often better than *right* now.\n",
      "If the implementation is hard to explain, it's a bad idea.\n",
      "If the implementation is easy to explain, it may be a good idea.\n",
      "Namespaces are one honking great idea -- let's do more of those!\n"
     ]
    }
   ],
   "source": [
    "# for comparison\n",
    "import this"
   ]
  }
 ],
 "metadata": {
  "interpreter": {
   "hash": "5109d816b82be14675a6b11f8e0f0d2e80f029176ed3710d54e125caa8520dfd"
  },
  "kernelspec": {
   "display_name": "Python 3.7.4 64-bit",
   "language": "python",
   "name": "python3"
  },
  "language_info": {
   "codemirror_mode": {
    "name": "ipython",
    "version": 3
   },
   "file_extension": ".py",
   "mimetype": "text/x-python",
   "name": "python",
   "nbconvert_exporter": "python",
   "pygments_lexer": "ipython3",
   "version": "3.7.4"
  },
  "orig_nbformat": 4
 },
 "nbformat": 4,
 "nbformat_minor": 2
}
